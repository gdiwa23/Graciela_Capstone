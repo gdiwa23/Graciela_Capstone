{
 "cells": [
  {
   "cell_type": "code",
   "execution_count": null,
   "id": "ba4c79c4-7302-4277-94af-88fa8ddb0328",
   "metadata": {},
   "outputs": [],
   "source": [
    "# Import libs + packages\n",
    "\n",
    "# scraping\n",
    "from bs4 import BeautifulSoup       \n",
    "import re                           \n",
    "from urllib.parse import urljoin\n",
    "import time\n",
    "import requests        # asks browser for permission to connect to it and do stuff w it\n",
    "\n",
    "# reading the subtitles\n",
    "from io import BytesIO\n",
    "from zipfile import ZipFile\n",
    "import os             # check os\n",
    "import pysrt          # !pip install pysrt\n",
    "\n",
    "# filling the wikipedia / fishbase column\n",
    "import wikipedia      # !pip install wikipedia\n",
    "import random         # for delays"
   ]
  },
  {
   "cell_type": "markdown",
   "id": "dde0df0a-7c04-4fe3-8d31-ce8d2c3cff55",
   "metadata": {
    "jp-MarkdownHeadingCollapsed": true
   },
   "source": [
    "## Step 1: Scrape for subtitles\n",
    "* if possible this step should be done on colab to avoid request limits or IP blocking\n",
    "* otherwise just be smart about time delays"
   ]
  },
  {
   "cell_type": "code",
   "execution_count": 7,
   "id": "9d0194a7-0dc9-45db-a8be-0cdd71ba8e09",
   "metadata": {},
   "outputs": [],
   "source": [
    "# urls \n",
    "base_url = \"https://www.opensubtitles.org\"\n",
    "movie_page = \"https://www.opensubtitles.org/en/ssearch/sublanguageid-eng/idmovie-541228\""
   ]
  },
  {
   "cell_type": "code",
   "execution_count": 8,
   "id": "f5a7d198-ead1-49c5-9c7b-2e07a83cd11c",
   "metadata": {},
   "outputs": [],
   "source": [
    "# soup, parse html\n",
    "response = requests.get(movie_page)\n",
    "soup = BeautifulSoup(response.text, \"html.parser\")"
   ]
  },
  {
   "cell_type": "code",
   "execution_count": 9,
   "id": "d96cd850-af43-45be-81ac-a544152321c4",
   "metadata": {},
   "outputs": [
    {
     "data": {
      "text/plain": [
       "403"
      ]
     },
     "execution_count": 9,
     "metadata": {},
     "output_type": "execute_result"
    }
   ],
   "source": [
    "#resp # check response code\n",
    "response.status_code # check response code"
   ]
  },
  {
   "cell_type": "code",
   "execution_count": null,
   "id": "cfc04386-d437-4da4-9cad-5fa298923372",
   "metadata": {},
   "outputs": [],
   "source": [
    "# get all the episode links\n",
    "episode_links = soup.find_all('a', href=lambda href: href and \"imdbid\" in href)\n",
    "episode_links;"
   ]
  },
  {
   "cell_type": "code",
   "execution_count": null,
   "id": "4eb463fd-4298-4296-a903-b0a4719478b0",
   "metadata": {},
   "outputs": [],
   "source": [
    "# get the full links\n",
    "full_links = [base_url + link['href'] for link in episode_links]\n",
    "full_links;"
   ]
  },
  {
   "cell_type": "code",
   "execution_count": null,
   "id": "32b220ea-2c93-4022-8ff2-c8228dc1123a",
   "metadata": {},
   "outputs": [],
   "source": [
    "# keep only URLs that contain \"download\"\n",
    "download_links = [link for link in full_links if \"download\" in link]"
   ]
  },
  {
   "cell_type": "code",
   "execution_count": null,
   "id": "b9f0f128-1654-4b11-a314-d02dc69def34",
   "metadata": {},
   "outputs": [],
   "source": [
    "# these are the first download links for all episodes from the main river monsters page !!\n",
    "\n",
    "episode_links = [link for link in download_links if not \"season\" in link]\n",
    "episode_links;"
   ]
  },
  {
   "cell_type": "code",
   "execution_count": null,
   "id": "8929141b-164d-462c-846a-e1d5b2a0e94c",
   "metadata": {},
   "outputs": [],
   "source": [
    "# list of download links\n",
    "test_links = episode_links\n",
    "test_links;"
   ]
  },
  {
   "cell_type": "code",
   "execution_count": null,
   "id": "3ce21083-5142-492f-b7f4-c523ffea8bf1",
   "metadata": {},
   "outputs": [],
   "source": [
    "# saves all into just one folder\n",
    "# this is the one that worked ! ### i have added timesleep , lets see !\n",
    "\n",
    "\n",
    "for url in test_links:\n",
    "    try:\n",
    "        print(f\"Downloading {url} ...\")\n",
    "        response = requests.get(url)\n",
    "        response.raise_for_status()\n",
    "\n",
    "        # Open ZIP in memory\n",
    "        zip_file = ZipFile(BytesIO(response.content))\n",
    "        srt_files = [f for f in zip_file.namelist() if f.endswith(\".srt\")]\n",
    "\n",
    "        if not srt_files:\n",
    "            print(\"No .srt files found in this ZIP.\")\n",
    "            time.sleep(20)\n",
    "            continue\n",
    "\n",
    "        # Extract .srt files to the single folder\n",
    "        for file_name in srt_files:\n",
    "            # Optionally rename the file to avoid duplicates\n",
    "            new_file_name = os.path.basename(file_name)\n",
    "            zip_file.extract(file_name, path=base_folder)\n",
    "            # Move extracted file to base folder (in case ZIP has subfolders)\n",
    "            os.rename(os.path.join(base_folder, file_name), os.path.join(base_folder, new_file_name))\n",
    "            print(f\"Extracted {new_file_name} to {base_folder}\")\n",
    "\n",
    "    except Exception as e:\n",
    "        print(f\"Error processing {url}: {e}\")\n",
    "\n",
    "    time.sleep(20)\n",
    "\n",
    "print(\"All downloads completed!\")"
   ]
  },
  {
   "cell_type": "code",
   "execution_count": null,
   "id": "c290248f-ab07-46a3-a39e-8399fdba3d24",
   "metadata": {},
   "outputs": [],
   "source": []
  },
  {
   "cell_type": "markdown",
   "id": "12520ca1-a609-43d7-ae29-0f1d62ae20d9",
   "metadata": {
    "jp-MarkdownHeadingCollapsed": true
   },
   "source": [
    "## Step 2: Read the subtitles\n",
    "* use pysrt to read the subtitles into text for python\n",
    "* "
   ]
  },
  {
   "cell_type": "code",
   "execution_count": 19,
   "id": "6c30e3f7-5f5a-40a3-a313-5fa6b74cb7b8",
   "metadata": {},
   "outputs": [],
   "source": [
    "# function for reading ONE subtitles\n",
    "def read_sub(subs):\n",
    "    for sub in subs:\n",
    "        print(sub.text)\n",
    "        print()"
   ]
  },
  {
   "cell_type": "code",
   "execution_count": 20,
   "id": "2f3ffb7d-2f1d-42ac-96e6-b3032bf3abaa",
   "metadata": {},
   "outputs": [],
   "source": [
    "# list all the subs for reading\n",
    "def list_srt_files(base_folder):\n",
    "    \"\"\"\n",
    "    Returns a list of all .srt file names in the given folder.\n",
    "\n",
    "    Args:\n",
    "        base_folder (str): Path to the folder where .srt files are stored.\n",
    "\n",
    "    Returns:\n",
    "        list: List of .srt file names (not full paths).\n",
    "    \"\"\"\n",
    "    return [f for f in os.listdir(base_folder) if f.endswith(\".srt\")]"
   ]
  },
  {
   "cell_type": "code",
   "execution_count": 18,
   "id": "5bb1729b-6412-4d94-bc53-fdd8ebed0e93",
   "metadata": {},
   "outputs": [],
   "source": [
    "# base_folder = all_subs\n",
    "# get all the subs in ready for reading\n",
    "\n",
    "all_eps_srt = list_srt_files(base_folder='all_subs')\n",
    "all_eps_srt;"
   ]
  },
  {
   "cell_type": "code",
   "execution_count": null,
   "id": "1176fae5-da44-49d2-a6cb-00e9a6614e38",
   "metadata": {},
   "outputs": [],
   "source": [
    "# function for reading all subs and put into DF\n",
    "\n",
    "def read_all_subs(all_eps):\n",
    "    df = pd.DataFrame(columns=['episode_name', \n",
    "                               'english_name', \n",
    "                               'transcript'])\n",
    "\n",
    "    for ep in all_eps:\n",
    "        # clean episode name (remove prefix/suffix)\n",
    "        episode_name = re.sub(r'^River\\.Monsters\\.|\\.srt$', '', ep)\n",
    "        episode_name = episode_name.replace('.', ' ')\n",
    "\n",
    "        # read subtitles\n",
    "        subs = read_sub(ep)  \n",
    "        subs_text = subs.text if hasattr(subs, 'text') else str(subs)\n",
    "\n",
    "        # append row\n",
    "        df = pd.concat(\n",
    "            [df, pd.DataFrame({\n",
    "                \"episode_name\": [episode_name],\n",
    "                \"english_name\": [None],           # or extract species if available\n",
    "                \"transcript\": [subs_text]\n",
    "            })],\n",
    "            ignore_index=True\n",
    "        )\n",
    "\n",
    "    return df"
   ]
  },
  {
   "cell_type": "code",
   "execution_count": null,
   "id": "5aadb7d3-ffd1-49c9-86ef-b216e9c2544e",
   "metadata": {},
   "outputs": [],
   "source": [
    "df = read_all_subs(all_eps_srt)"
   ]
  },
  {
   "cell_type": "code",
   "execution_count": null,
   "id": "871ee44c-51e7-43cf-8b74-97cfa74b7b71",
   "metadata": {},
   "outputs": [],
   "source": [
    "## add english_ name and latin_name\n",
    "df['latin_name'] = ['Hydrocynus Goliath', 'Urogymnus Polylepis', 'Channa Argus',\n",
    "                     'Heterobranchus Longifilis', 'Sinosturio Transmontanus', 'Lates Niloticus',\n",
    "                     'Pygocentrus Nattereri', 'Bagarius Yarrelli', 'Atractosteus Spatula',\n",
    "                     'Silurus Glanis', 'Arapaima Gigas', 'Hydrolycus Scomberoides',\n",
    "                     'Pristis Pristis', 'Electrophorus Electricus', 'Anguilla Dieffenbachii',\n",
    "                     'Carcharhinus Leucas', 'Hoplias Aimara', 'Potamotrygon Brachypomus',\n",
    "                     'Piaractus Brachypomus']\n"
   ]
  },
  {
   "cell_type": "code",
   "execution_count": null,
   "id": "1401cd8c-a2ee-4491-acf8-b97dc02b70bb",
   "metadata": {},
   "outputs": [],
   "source": [
    "df['english_name'] = ['Goliath Tigerfish', 'Giant Freshwater Stingray', 'Northern Snakehead',\n",
    "                    'Tsuni Catfish', 'White Sturgeon', 'Nile Perch', 'Red Bellied Piranha',\n",
    "                     'Goonch Catfish', 'Alligator Gar', 'Wels Catfish', 'Arapaima', 'Payara',\n",
    "                     'Largetooth Sawfish', 'Electric Eel', 'New Zealand Longfin Eel',\n",
    "                     'Bull Shark', 'Wolf Fish', 'Short-Tailed River Stingray', 'Red-Bellied Pacu']\n"
   ]
  },
  {
   "cell_type": "code",
   "execution_count": null,
   "id": "51f4ca12-6f91-41c2-9515-094e9b8b0790",
   "metadata": {},
   "outputs": [],
   "source": []
  },
  {
   "cell_type": "code",
   "execution_count": null,
   "id": "ec669905-c6df-4671-bc26-70ea718fa5b4",
   "metadata": {},
   "outputs": [],
   "source": [
    "# reorder columns\n",
    "df = df[['episode_name', 'english_name', 'latin_name', 'transcript']]"
   ]
  },
  {
   "cell_type": "code",
   "execution_count": null,
   "id": "e6c7f1ff-11c3-4f17-946c-662667715d85",
   "metadata": {},
   "outputs": [],
   "source": [
    "# save to csv\n",
    "# df.to_csv('river_monsters.csv')"
   ]
  },
  {
   "cell_type": "code",
   "execution_count": null,
   "id": "70ebea75-e9a0-464c-a2e9-c8cb8af0bb87",
   "metadata": {},
   "outputs": [],
   "source": []
  },
  {
   "cell_type": "code",
   "execution_count": null,
   "id": "89dffd4e-643d-48f3-b4ec-49afac3f9d17",
   "metadata": {},
   "outputs": [],
   "source": []
  },
  {
   "cell_type": "markdown",
   "id": "a7c40584-a941-43b1-b9ee-2098e66f62fd",
   "metadata": {},
   "source": [
    "## Step 3: Scrape for wiki/fishbase\n",
    "* scrape wikipedia and fishbase !\n",
    "* special case for electric eel"
   ]
  },
  {
   "cell_type": "code",
   "execution_count": 21,
   "id": "966201d0-a04c-4cbd-a61d-a386df6e8b98",
   "metadata": {},
   "outputs": [],
   "source": [
    "# function that looks returns contents of wikipedia page \n",
    "# for each species and adds it to df!\n",
    "\n",
    "def return_desc(df):\n",
    "    wiki_desc_list = []\n",
    "    \n",
    "    for name in df['latin_name']:\n",
    "        try:\n",
    "            fish = wikipedia.page(name)\n",
    "            wiki_desc_list.append(fish.content)\n",
    "        except wikipedia.exceptions.DisambiguationError as e:\n",
    "            wiki_desc_list.append(f\"Disambiguation: {e.options}\")\n",
    "        except wikipedia.exceptions.PageError:\n",
    "            wiki_desc_list.append(\"Page not found\")\n",
    "        \n",
    "        # random pause between 30 and 60 seconds\n",
    "        delay = random.uniform(30, 60)\n",
    "        print(f\"Sleeping for {delay:.1f} seconds...\")\n",
    "        time.sleep(delay)\n",
    "    \n",
    "    df['wiki_desc'] = wiki_desc_list\n",
    "    return df\n",
    "\n",
    "\n",
    "#df = return_desc(df)\n",
    "#df.to_csv('river_monsters_complete.csv')"
   ]
  },
  {
   "cell_type": "code",
   "execution_count": null,
   "id": "039f540f-d198-4b24-b552-14ecf685fdbd",
   "metadata": {},
   "outputs": [],
   "source": [
    "# scrape fishbase , add to wiki column\n",
    "\n",
    "def scrape_fishbase(df: pd.DataFrame) -> pd.DataFrame:\n",
    "    df = df.copy()\n",
    "    new_descs = []\n",
    "\n",
    "    headers = {\"User-Agent\": \"Mozilla/5.0 (compatible; FishScraper/1.0)\"}\n",
    "\n",
    "    for latin in df[\"latin_name\"]:\n",
    "        try:\n",
    "            url = f\"https://www.fishbase.se/summary/{latin.replace(' ', '%20')}.html\"\n",
    "            print(f\"Fetching: {url}\")\n",
    "\n",
    "            resp = requests.get(url, headers=headers, timeout=20)\n",
    "            resp.raise_for_status()\n",
    "            soup = BeautifulSoup(resp.text, \"html.parser\")\n",
    "\n",
    "            # Grab everything inside the main summary div\n",
    "            main_div = soup.find(\"div\", {\"id\": \"ss-main\"})\n",
    "            if main_div:\n",
    "                text = main_div.get_text(\" \", strip=True)\n",
    "            else:\n",
    "                text = \"\"\n",
    "\n",
    "            new_descs.append(text)\n",
    "\n",
    "        except Exception as e:\n",
    "            print(f\"❌ Failed for {latin}: {e}\")\n",
    "            new_descs.append(\"\")\n",
    "\n",
    "        # Random pause\n",
    "        delay = random.uniform(30, 120)\n",
    "        print(f\"Sleeping for {delay:.1f} seconds...\")\n",
    "        time.sleep(delay)\n",
    "\n",
    "    # If wiki_desc already exists, append; otherwise just set\n",
    "    if \"wiki_desc\" in df.columns:\n",
    "        df[\"wiki_desc\"] = df[\"wiki_desc\"].fillna(\"\").astype(str) + \"\\n\" + pd.Series(new_descs)\n",
    "    else:\n",
    "        df[\"wiki_desc\"] = new_descs\n",
    "\n",
    "    return df"
   ]
  },
  {
   "cell_type": "code",
   "execution_count": null,
   "id": "c3d408e4-ee76-4712-9083-2b2114ad9b9b",
   "metadata": {
    "jupyter": {
     "source_hidden": true
    }
   },
   "outputs": [],
   "source": [
    "# special case for electric eel, wikipedia was not able to distinguish this page from three entries despite attempts to specify and direct\n",
    "\n",
    "\n",
    "eel_wiki = ''' Electrophorus electricus is the best-known species of electric eel. It is a South American electric fish. Until the discovery of two additional species in 2019, the genus was classified as the monotypic, with this species the only one in the genus.[3] Despite the name, it is not an eel, but rather a knifefish.[4] It is considered as a freshwater teleost which contains an electrogenic tissue that produces electric discharges.[5]\n",
    "\n",
    "Taxonomic history The species has been reclassified several times. When originally described by Carl Linnaeus in 1766, he used the name Gymnotus electricus, placing it in the same genus as Gymnotus carapo (banded knifefish) which he had described several years earlier. It was only about a century later, in 1864, that the electric eel was moved to its own genus Electrophorus by Theodore Gill.[6]\n",
    "\n",
    "In September 2019, David de Santana et al. suggested the division of the genus into three species based on DNA divergence, ecology and habitat, anatomy and physiology, and electrical ability: E. electricus, E. voltai sp. nov., and E. varii sp. nov. The study found E. electricus to be the sister species to E. voltai, with both species diverging during the Pliocene.[3]\n",
    "\n",
    "Anatomy\n",
    "\n",
    "Comparison of the three species of Electrophorus E. electricus has an elongated, cylindrical body, typically growing to about 2 m (6 ft 7 in) in length, and 20 kg (44 lb) in weight.[7] Their coloration is dark gray-brown on the back and yellow or orange on the belly. Mature females have a darker abdomen. They have no scales. The mouth is square and positioned at the end of the snout. The anal fin extends the length of the body to the tip of the tail. As in other ostariophysan fishes, the swim bladder has two chambers. The anterior chamber is connected to the inner ear by a series of small bones derived from neck vertebrae called the Weberian apparatus, which greatly enhances its hearing capability. The posterior chamber extends along the whole length of the body and maintains the fish's buoyancy.\n",
    "\n",
    "E. electricus has a vascularized respiratory system with gas exchange occurring through epithelial tissue in its buccal cavity.[8] As obligate air-breathers, E. electricus must rise to the surface every ten minutes or so to inhale before returning to the bottom. Nearly eighty percent of the oxygen used by the fish is obtained in this way.[9]\n",
    "\n",
    "Physiology Further information: Electric eel § Electrophysiology E. electricus has three pairs of abdominal organs that produce electricity: the main organ, Hunter's organ, and Sachs' organ. These organs occupy a large part of its body, and give the electric eel the ability to generate two types of electric organ discharges: low voltage and high voltage. These organs are made of electrocytes, lined up so a current of ions can flow through them and stacked so each one adds to a potential difference.[10] The three electrical organs are developed from muscle and exhibit several biochemical properties and morphological features of the muscle sarcolemma; they are found symmetrically along both sides of the eel.[5]\n",
    "\n",
    "When the eel finds its prey, the brain sends a signal through the nervous system to the electrocytes. This opens the ion channels, allowing sodium to flow through, reversing the polarity momentarily. By causing a sudden difference in electric potential, it generates an electric current in a manner similar to a battery, in which stacked plates each produce an electric potential difference.[10] Electric eels are also capable of controlling their prey's nervous systems with their electrical abilities; by controlling their victim's nervous system and muscles via electrical pulses, they can keep prey from escaping or force it to move so they can locate its position.[11][12]\n",
    "\n",
    "Electric eels use electricity in multiple ways. Low voltages are used to sense the surrounding environment. High voltages are used to detect prey and, separately, stun them, at which point the electric eel applies a suction-feeding bite.[13]\n",
    "\n",
    "Anatomy of an electric eel's electric organs Sachs' organ is associated with electrolocation. Inside the organ are many muscle-like cells, called electrocytes. Each cell produces 0.15 V, the cells being stacked in series to enable the organ to generate nearly 10 V at around 25 Hz in frequency. These signals are emitted by the main organ; Hunter's organ can emit signals at rates of several hundred hertz.[14]\n",
    "\n",
    "There are several physiological differences among the three electric organs, which allow them to have very different functions. The main electrical organ and the strong-voltage section of Hunter's organ are rich in calmodulin, a protein that is involved in high-voltage production.[15] Additionally, the three organs have varying amounts of Na+/K+-ATPase, which is a Na+/K+ ion pump that is crucial in the formation of voltage. The main and Hunter's organs have a high expression of this protein, giving it a high sensitivity to changes in ion concentration, whereas Sachs' organ has a low expression of this protein.[16]\n",
    "\n",
    "The typical output is sufficient to stun or deter virtually any animal. The eels can vary the intensity of the electric discharge, using lower discharges for hunting and higher intensities for stunning prey or defending themselves. They can also concentrate the discharge by curling up and making contact at two points along its body.[17] When agitated, they can produce these intermittent electric shocks over at least an hour without tiring.[citation needed]\n",
    "\n",
    "E. electricus also possesses high frequency–sensitive tuberous receptors, which are distributed in patches over its body. This feature is apparently useful for hunting other Gymnotiformes.[14] E. electricus has been prominent in the study of bioelectricity since the 18th century.[18] The species is of some interest to researchers, who make use of its acetylcholinesterase and adenosine triphosphate.[19][20]\n",
    "\n",
    "Despite being the first described species in the genus and thus the most famous example, E. electricus actually has the weakest maximum voltage of the three species in the genus, at only 480 volts (as opposed to 572 volts in E. varii and 860 volts in E. voltai).[3]\n",
    "\n",
    "Ecology and life history\n",
    "\n",
    "Electric eel at the New England Aquarium Habitat E. electricus is restricted to freshwater habitats in the Guiana Shield. Populations in the Amazon basin, Brazilian Shield, and other parts of the Guiana Shield are now thought to belong to E. varii and E. voltai.[21]\n",
    "\n",
    "Feeding ecology E. electricus feeds on invertebrates, although adult eels may also consume fish and small mammals, such as rats. First-born hatchlings eat other eggs and embryos from later clutches.[14] The juveniles eat invertebrates, such as shrimp and crabs.\n",
    "\n",
    "Reproduction E. electricus is known for its unusual breeding behavior. In the dry season, a male eel makes a nest from his saliva into which the female lays her eggs. As many as 3,000 young hatch from the eggs in one nest. Males grow to be larger than females[22][23] by about 35 cm (14 in).'''"
   ]
  },
  {
   "cell_type": "code",
   "execution_count": null,
   "id": "f8da0661-8843-4874-8ae1-66bda0251b08",
   "metadata": {},
   "outputs": [],
   "source": [
    "# update electric eel\n",
    "df.loc[df['latin_name'] == 'Electrophorus Electricus', 'wiki_desc'] = eel_wiki"
   ]
  },
  {
   "cell_type": "code",
   "execution_count": null,
   "id": "6659d2ab-8b6f-4dd2-bf48-d2f663c5a121",
   "metadata": {},
   "outputs": [],
   "source": [
    "#fishbase_df = scrape_fishbase(df)"
   ]
  },
  {
   "cell_type": "code",
   "execution_count": null,
   "id": "c53e1588-3dfe-43cb-b6df-0f4a7e6e476c",
   "metadata": {},
   "outputs": [],
   "source": [
    "#fishbase_df.to_csv('RM_complete.csv', index=False)"
   ]
  },
  {
   "cell_type": "code",
   "execution_count": null,
   "id": "3dd08cff-a14f-4c7f-9e4c-2dd435f08385",
   "metadata": {},
   "outputs": [],
   "source": []
  }
 ],
 "metadata": {
  "kernelspec": {
   "display_name": "Python [conda env:base] *",
   "language": "python",
   "name": "conda-base-py"
  },
  "language_info": {
   "codemirror_mode": {
    "name": "ipython",
    "version": 3
   },
   "file_extension": ".py",
   "mimetype": "text/x-python",
   "name": "python",
   "nbconvert_exporter": "python",
   "pygments_lexer": "ipython3",
   "version": "3.12.7"
  }
 },
 "nbformat": 4,
 "nbformat_minor": 5
}
